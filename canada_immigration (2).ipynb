{
 "cells": [
  {
   "cell_type": "markdown",
   "id": "c1dccf40",
   "metadata": {},
   "source": [
    "## CANADIAN IMMIGRATION DATASET\n",
    "#### This case study will analyse number of immigrants coming to Canada from 195 different countires between the year 2000 and 2013."
   ]
  },
  {
   "cell_type": "markdown",
   "id": "65c37977",
   "metadata": {},
   "source": [
    "#### Importing all the required libraries"
   ]
  },
  {
   "cell_type": "code",
   "execution_count": 2,
   "id": "b9a6d765",
   "metadata": {},
   "outputs": [],
   "source": [
    "\n",
    "## Data Analysis Libraries\n",
    "import pandas as pd\n",
    "import numpy as np\n",
    "\n",
    "## Data Visualization Libraries\n",
    "import matplotlib.pyplot as plt\n",
    "import seaborn as sns"
   ]
  },
  {
   "cell_type": "markdown",
   "id": "8ff5a96f",
   "metadata": {},
   "source": [
    "#### Importing the dataset\n",
    "##### Source:Kaggle"
   ]
  },
  {
   "cell_type": "code",
   "execution_count": 3,
   "id": "53c623f0",
   "metadata": {},
   "outputs": [
    {
     "data": {
      "text/html": [
       "<div>\n",
       "<style scoped>\n",
       "    .dataframe tbody tr th:only-of-type {\n",
       "        vertical-align: middle;\n",
       "    }\n",
       "\n",
       "    .dataframe tbody tr th {\n",
       "        vertical-align: top;\n",
       "    }\n",
       "\n",
       "    .dataframe thead th {\n",
       "        text-align: right;\n",
       "    }\n",
       "</style>\n",
       "<table border=\"1\" class=\"dataframe\">\n",
       "  <thead>\n",
       "    <tr style=\"text-align: right;\">\n",
       "      <th></th>\n",
       "      <th>Country</th>\n",
       "      <th>Continent</th>\n",
       "      <th>Region</th>\n",
       "      <th>DevName</th>\n",
       "      <th>2000</th>\n",
       "      <th>2001</th>\n",
       "      <th>2002</th>\n",
       "      <th>2003</th>\n",
       "      <th>2004</th>\n",
       "      <th>2005</th>\n",
       "      <th>2006</th>\n",
       "      <th>2007</th>\n",
       "      <th>2008</th>\n",
       "      <th>2009</th>\n",
       "      <th>2010</th>\n",
       "      <th>2011</th>\n",
       "      <th>2012</th>\n",
       "      <th>2013</th>\n",
       "      <th>Total</th>\n",
       "    </tr>\n",
       "  </thead>\n",
       "  <tbody>\n",
       "    <tr>\n",
       "      <th>0</th>\n",
       "      <td>Afghanistan</td>\n",
       "      <td>Asia</td>\n",
       "      <td>Southern Asia</td>\n",
       "      <td>Developing regions</td>\n",
       "      <td>3326</td>\n",
       "      <td>4067</td>\n",
       "      <td>3697</td>\n",
       "      <td>3479</td>\n",
       "      <td>2978</td>\n",
       "      <td>3436</td>\n",
       "      <td>3009</td>\n",
       "      <td>2652</td>\n",
       "      <td>2111</td>\n",
       "      <td>1746</td>\n",
       "      <td>1758</td>\n",
       "      <td>2203</td>\n",
       "      <td>2635</td>\n",
       "      <td>2004</td>\n",
       "      <td>39101</td>\n",
       "    </tr>\n",
       "    <tr>\n",
       "      <th>1</th>\n",
       "      <td>Albania</td>\n",
       "      <td>Europe</td>\n",
       "      <td>Southern Europe</td>\n",
       "      <td>Developed regions</td>\n",
       "      <td>1816</td>\n",
       "      <td>1602</td>\n",
       "      <td>1021</td>\n",
       "      <td>853</td>\n",
       "      <td>1450</td>\n",
       "      <td>1223</td>\n",
       "      <td>856</td>\n",
       "      <td>702</td>\n",
       "      <td>560</td>\n",
       "      <td>716</td>\n",
       "      <td>561</td>\n",
       "      <td>539</td>\n",
       "      <td>620</td>\n",
       "      <td>603</td>\n",
       "      <td>13122</td>\n",
       "    </tr>\n",
       "    <tr>\n",
       "      <th>2</th>\n",
       "      <td>Algeria</td>\n",
       "      <td>Africa</td>\n",
       "      <td>Northern Africa</td>\n",
       "      <td>Developing regions</td>\n",
       "      <td>2867</td>\n",
       "      <td>3418</td>\n",
       "      <td>3406</td>\n",
       "      <td>3072</td>\n",
       "      <td>3616</td>\n",
       "      <td>3626</td>\n",
       "      <td>4807</td>\n",
       "      <td>3623</td>\n",
       "      <td>4005</td>\n",
       "      <td>5393</td>\n",
       "      <td>4752</td>\n",
       "      <td>4325</td>\n",
       "      <td>3774</td>\n",
       "      <td>4331</td>\n",
       "      <td>55015</td>\n",
       "    </tr>\n",
       "    <tr>\n",
       "      <th>3</th>\n",
       "      <td>American Samoa</td>\n",
       "      <td>Oceania</td>\n",
       "      <td>Polynesia</td>\n",
       "      <td>Developing regions</td>\n",
       "      <td>0</td>\n",
       "      <td>0</td>\n",
       "      <td>0</td>\n",
       "      <td>0</td>\n",
       "      <td>0</td>\n",
       "      <td>0</td>\n",
       "      <td>1</td>\n",
       "      <td>0</td>\n",
       "      <td>0</td>\n",
       "      <td>0</td>\n",
       "      <td>0</td>\n",
       "      <td>0</td>\n",
       "      <td>0</td>\n",
       "      <td>0</td>\n",
       "      <td>1</td>\n",
       "    </tr>\n",
       "    <tr>\n",
       "      <th>4</th>\n",
       "      <td>Andorra</td>\n",
       "      <td>Europe</td>\n",
       "      <td>Southern Europe</td>\n",
       "      <td>Developed regions</td>\n",
       "      <td>0</td>\n",
       "      <td>1</td>\n",
       "      <td>0</td>\n",
       "      <td>2</td>\n",
       "      <td>0</td>\n",
       "      <td>0</td>\n",
       "      <td>1</td>\n",
       "      <td>1</td>\n",
       "      <td>0</td>\n",
       "      <td>0</td>\n",
       "      <td>0</td>\n",
       "      <td>0</td>\n",
       "      <td>1</td>\n",
       "      <td>1</td>\n",
       "      <td>7</td>\n",
       "    </tr>\n",
       "  </tbody>\n",
       "</table>\n",
       "</div>"
      ],
      "text/plain": [
       "          Country Continent           Region             DevName  2000  2001  \\\n",
       "0     Afghanistan      Asia    Southern Asia  Developing regions  3326  4067   \n",
       "1         Albania    Europe  Southern Europe   Developed regions  1816  1602   \n",
       "2         Algeria    Africa  Northern Africa  Developing regions  2867  3418   \n",
       "3  American Samoa   Oceania        Polynesia  Developing regions     0     0   \n",
       "4         Andorra    Europe  Southern Europe   Developed regions     0     1   \n",
       "\n",
       "   2002  2003  2004  2005  2006  2007  2008  2009  2010  2011  2012  2013  \\\n",
       "0  3697  3479  2978  3436  3009  2652  2111  1746  1758  2203  2635  2004   \n",
       "1  1021   853  1450  1223   856   702   560   716   561   539   620   603   \n",
       "2  3406  3072  3616  3626  4807  3623  4005  5393  4752  4325  3774  4331   \n",
       "3     0     0     0     0     1     0     0     0     0     0     0     0   \n",
       "4     0     2     0     0     1     1     0     0     0     0     1     1   \n",
       "\n",
       "   Total  \n",
       "0  39101  \n",
       "1  13122  \n",
       "2  55015  \n",
       "3      1  \n",
       "4      7  "
      ]
     },
     "execution_count": 3,
     "metadata": {},
     "output_type": "execute_result"
    }
   ],
   "source": [
    "cad=pd.read_csv(r\"C:\\Users\\hp\\Documents\\Data Analytics\\canadian_immigration_dataset.csv\")\n",
    "cad.head()"
   ]
  },
  {
   "cell_type": "markdown",
   "id": "04001ad2",
   "metadata": {},
   "source": [
    "#### In order to visualize or perform any calculations on the data, it is important to understand the dataset and all the columns of data. Let us first check number of columns, rows, unique values, checking for any missing values"
   ]
  },
  {
   "cell_type": "code",
   "execution_count": 4,
   "id": "7c6ea023",
   "metadata": {},
   "outputs": [
    {
     "data": {
      "text/plain": [
       "(195, 19)"
      ]
     },
     "execution_count": 4,
     "metadata": {},
     "output_type": "execute_result"
    }
   ],
   "source": [
    "cad.shape"
   ]
  },
  {
   "cell_type": "code",
   "execution_count": 5,
   "id": "50a4a2f9",
   "metadata": {},
   "outputs": [
    {
     "data": {
      "text/plain": [
       "Country      0\n",
       "Continent    0\n",
       "Region       0\n",
       "DevName      0\n",
       "2000         0\n",
       "2001         0\n",
       "2002         0\n",
       "2003         0\n",
       "2004         0\n",
       "2005         0\n",
       "2006         0\n",
       "2007         0\n",
       "2008         0\n",
       "2009         0\n",
       "2010         0\n",
       "2011         0\n",
       "2012         0\n",
       "2013         0\n",
       "Total        0\n",
       "dtype: int64"
      ]
     },
     "execution_count": 5,
     "metadata": {},
     "output_type": "execute_result"
    }
   ],
   "source": [
    "cad.isnull().sum()"
   ]
  },
  {
   "cell_type": "markdown",
   "id": "1158dbb5",
   "metadata": {},
   "source": [
    "#### There are no columns with null values"
   ]
  },
  {
   "cell_type": "code",
   "execution_count": 6,
   "id": "f4ef50e9",
   "metadata": {},
   "outputs": [
    {
     "name": "stdout",
     "output_type": "stream",
     "text": [
      "<class 'pandas.core.frame.DataFrame'>\n",
      "RangeIndex: 195 entries, 0 to 194\n",
      "Data columns (total 19 columns):\n",
      " #   Column     Non-Null Count  Dtype \n",
      "---  ------     --------------  ----- \n",
      " 0   Country    195 non-null    object\n",
      " 1   Continent  195 non-null    object\n",
      " 2   Region     195 non-null    object\n",
      " 3   DevName    195 non-null    object\n",
      " 4   2000       195 non-null    int64 \n",
      " 5   2001       195 non-null    int64 \n",
      " 6   2002       195 non-null    int64 \n",
      " 7   2003       195 non-null    int64 \n",
      " 8   2004       195 non-null    int64 \n",
      " 9   2005       195 non-null    int64 \n",
      " 10  2006       195 non-null    int64 \n",
      " 11  2007       195 non-null    int64 \n",
      " 12  2008       195 non-null    int64 \n",
      " 13  2009       195 non-null    int64 \n",
      " 14  2010       195 non-null    int64 \n",
      " 15  2011       195 non-null    int64 \n",
      " 16  2012       195 non-null    int64 \n",
      " 17  2013       195 non-null    int64 \n",
      " 18  Total      195 non-null    int64 \n",
      "dtypes: int64(15), object(4)\n",
      "memory usage: 29.1+ KB\n"
     ]
    }
   ],
   "source": [
    "cad.info()"
   ]
  },
  {
   "cell_type": "markdown",
   "id": "abfde1d3",
   "metadata": {},
   "source": [
    "#### As we can see there are 19 columns in total. Out of which, 4 are string(object) data type and rest all are integer  data type. \n",
    "##### 1) 1st column represent all the countries(195) for which we will be analysing the data.\n",
    "##### 2) 2nd column represent the Continent to which each country belongs to.\n",
    "##### 3) 3rd and 4th columns represent Region and Development status of each country respectively.\n",
    "##### 4) 5th column onwards till 18th column represent the number of immigrants coming to Canada from a particular country.\n",
    "##### 5) The last column represent the total number of immigrants for a particular country between year 2000-2013."
   ]
  },
  {
   "cell_type": "markdown",
   "id": "66285790",
   "metadata": {},
   "source": [
    "### Quick Summary of the dataset"
   ]
  },
  {
   "cell_type": "code",
   "execution_count": 7,
   "id": "2c55c3f5",
   "metadata": {},
   "outputs": [
    {
     "data": {
      "text/html": [
       "<div>\n",
       "<style scoped>\n",
       "    .dataframe tbody tr th:only-of-type {\n",
       "        vertical-align: middle;\n",
       "    }\n",
       "\n",
       "    .dataframe tbody tr th {\n",
       "        vertical-align: top;\n",
       "    }\n",
       "\n",
       "    .dataframe thead th {\n",
       "        text-align: right;\n",
       "    }\n",
       "</style>\n",
       "<table border=\"1\" class=\"dataframe\">\n",
       "  <thead>\n",
       "    <tr style=\"text-align: right;\">\n",
       "      <th></th>\n",
       "      <th>2000</th>\n",
       "      <th>2001</th>\n",
       "      <th>2002</th>\n",
       "      <th>2003</th>\n",
       "      <th>2004</th>\n",
       "      <th>2005</th>\n",
       "      <th>2006</th>\n",
       "      <th>2007</th>\n",
       "      <th>2008</th>\n",
       "      <th>2009</th>\n",
       "      <th>2010</th>\n",
       "      <th>2011</th>\n",
       "      <th>2012</th>\n",
       "      <th>2013</th>\n",
       "      <th>Total</th>\n",
       "    </tr>\n",
       "  </thead>\n",
       "  <tbody>\n",
       "    <tr>\n",
       "      <th>count</th>\n",
       "      <td>195.000000</td>\n",
       "      <td>195.000000</td>\n",
       "      <td>195.000000</td>\n",
       "      <td>195.000000</td>\n",
       "      <td>195.000000</td>\n",
       "      <td>195.000000</td>\n",
       "      <td>195.000000</td>\n",
       "      <td>195.000000</td>\n",
       "      <td>195.000000</td>\n",
       "      <td>195.000000</td>\n",
       "      <td>195.000000</td>\n",
       "      <td>195.000000</td>\n",
       "      <td>195.000000</td>\n",
       "      <td>195.000000</td>\n",
       "      <td>195.000000</td>\n",
       "    </tr>\n",
       "    <tr>\n",
       "      <th>mean</th>\n",
       "      <td>1111.343590</td>\n",
       "      <td>1244.323077</td>\n",
       "      <td>1144.158974</td>\n",
       "      <td>1114.343590</td>\n",
       "      <td>1190.169231</td>\n",
       "      <td>1320.292308</td>\n",
       "      <td>1266.958974</td>\n",
       "      <td>1191.820513</td>\n",
       "      <td>1246.394872</td>\n",
       "      <td>1275.733333</td>\n",
       "      <td>1420.287179</td>\n",
       "      <td>1262.533333</td>\n",
       "      <td>1313.958974</td>\n",
       "      <td>1320.702564</td>\n",
       "      <td>17423.020513</td>\n",
       "    </tr>\n",
       "    <tr>\n",
       "      <th>std</th>\n",
       "      <td>3664.042361</td>\n",
       "      <td>3961.621410</td>\n",
       "      <td>3660.579836</td>\n",
       "      <td>3623.509519</td>\n",
       "      <td>3710.505369</td>\n",
       "      <td>4425.957828</td>\n",
       "      <td>3926.717747</td>\n",
       "      <td>3443.542409</td>\n",
       "      <td>3694.573544</td>\n",
       "      <td>3829.630424</td>\n",
       "      <td>4462.946328</td>\n",
       "      <td>4030.084313</td>\n",
       "      <td>4247.555161</td>\n",
       "      <td>4237.951988</td>\n",
       "      <td>53674.301829</td>\n",
       "    </tr>\n",
       "    <tr>\n",
       "      <th>min</th>\n",
       "      <td>0.000000</td>\n",
       "      <td>0.000000</td>\n",
       "      <td>0.000000</td>\n",
       "      <td>0.000000</td>\n",
       "      <td>0.000000</td>\n",
       "      <td>0.000000</td>\n",
       "      <td>0.000000</td>\n",
       "      <td>0.000000</td>\n",
       "      <td>0.000000</td>\n",
       "      <td>0.000000</td>\n",
       "      <td>0.000000</td>\n",
       "      <td>0.000000</td>\n",
       "      <td>0.000000</td>\n",
       "      <td>0.000000</td>\n",
       "      <td>1.000000</td>\n",
       "    </tr>\n",
       "    <tr>\n",
       "      <th>25%</th>\n",
       "      <td>16.000000</td>\n",
       "      <td>22.000000</td>\n",
       "      <td>18.500000</td>\n",
       "      <td>21.500000</td>\n",
       "      <td>19.000000</td>\n",
       "      <td>28.500000</td>\n",
       "      <td>25.000000</td>\n",
       "      <td>31.000000</td>\n",
       "      <td>31.000000</td>\n",
       "      <td>36.000000</td>\n",
       "      <td>40.500000</td>\n",
       "      <td>37.500000</td>\n",
       "      <td>42.500000</td>\n",
       "      <td>45.000000</td>\n",
       "      <td>462.500000</td>\n",
       "    </tr>\n",
       "    <tr>\n",
       "      <th>50%</th>\n",
       "      <td>138.000000</td>\n",
       "      <td>169.000000</td>\n",
       "      <td>165.000000</td>\n",
       "      <td>161.000000</td>\n",
       "      <td>191.000000</td>\n",
       "      <td>210.000000</td>\n",
       "      <td>218.000000</td>\n",
       "      <td>198.000000</td>\n",
       "      <td>205.000000</td>\n",
       "      <td>214.000000</td>\n",
       "      <td>211.000000</td>\n",
       "      <td>179.000000</td>\n",
       "      <td>233.000000</td>\n",
       "      <td>213.000000</td>\n",
       "      <td>2909.000000</td>\n",
       "    </tr>\n",
       "    <tr>\n",
       "      <th>75%</th>\n",
       "      <td>659.000000</td>\n",
       "      <td>793.500000</td>\n",
       "      <td>686.000000</td>\n",
       "      <td>673.500000</td>\n",
       "      <td>756.500000</td>\n",
       "      <td>832.000000</td>\n",
       "      <td>842.000000</td>\n",
       "      <td>899.000000</td>\n",
       "      <td>934.500000</td>\n",
       "      <td>888.000000</td>\n",
       "      <td>932.000000</td>\n",
       "      <td>772.000000</td>\n",
       "      <td>783.000000</td>\n",
       "      <td>796.000000</td>\n",
       "      <td>12068.500000</td>\n",
       "    </tr>\n",
       "    <tr>\n",
       "      <th>max</th>\n",
       "      <td>35529.000000</td>\n",
       "      <td>36434.000000</td>\n",
       "      <td>31961.000000</td>\n",
       "      <td>36439.000000</td>\n",
       "      <td>36619.000000</td>\n",
       "      <td>42584.000000</td>\n",
       "      <td>33848.000000</td>\n",
       "      <td>28742.000000</td>\n",
       "      <td>30037.000000</td>\n",
       "      <td>29622.000000</td>\n",
       "      <td>38617.000000</td>\n",
       "      <td>36765.000000</td>\n",
       "      <td>34315.000000</td>\n",
       "      <td>34129.000000</td>\n",
       "      <td>466431.000000</td>\n",
       "    </tr>\n",
       "  </tbody>\n",
       "</table>\n",
       "</div>"
      ],
      "text/plain": [
       "               2000          2001          2002          2003          2004  \\\n",
       "count    195.000000    195.000000    195.000000    195.000000    195.000000   \n",
       "mean    1111.343590   1244.323077   1144.158974   1114.343590   1190.169231   \n",
       "std     3664.042361   3961.621410   3660.579836   3623.509519   3710.505369   \n",
       "min        0.000000      0.000000      0.000000      0.000000      0.000000   \n",
       "25%       16.000000     22.000000     18.500000     21.500000     19.000000   \n",
       "50%      138.000000    169.000000    165.000000    161.000000    191.000000   \n",
       "75%      659.000000    793.500000    686.000000    673.500000    756.500000   \n",
       "max    35529.000000  36434.000000  31961.000000  36439.000000  36619.000000   \n",
       "\n",
       "               2005          2006          2007          2008          2009  \\\n",
       "count    195.000000    195.000000    195.000000    195.000000    195.000000   \n",
       "mean    1320.292308   1266.958974   1191.820513   1246.394872   1275.733333   \n",
       "std     4425.957828   3926.717747   3443.542409   3694.573544   3829.630424   \n",
       "min        0.000000      0.000000      0.000000      0.000000      0.000000   \n",
       "25%       28.500000     25.000000     31.000000     31.000000     36.000000   \n",
       "50%      210.000000    218.000000    198.000000    205.000000    214.000000   \n",
       "75%      832.000000    842.000000    899.000000    934.500000    888.000000   \n",
       "max    42584.000000  33848.000000  28742.000000  30037.000000  29622.000000   \n",
       "\n",
       "               2010          2011          2012          2013          Total  \n",
       "count    195.000000    195.000000    195.000000    195.000000     195.000000  \n",
       "mean    1420.287179   1262.533333   1313.958974   1320.702564   17423.020513  \n",
       "std     4462.946328   4030.084313   4247.555161   4237.951988   53674.301829  \n",
       "min        0.000000      0.000000      0.000000      0.000000       1.000000  \n",
       "25%       40.500000     37.500000     42.500000     45.000000     462.500000  \n",
       "50%      211.000000    179.000000    233.000000    213.000000    2909.000000  \n",
       "75%      932.000000    772.000000    783.000000    796.000000   12068.500000  \n",
       "max    38617.000000  36765.000000  34315.000000  34129.000000  466431.000000  "
      ]
     },
     "execution_count": 7,
     "metadata": {},
     "output_type": "execute_result"
    }
   ],
   "source": [
    "cad.describe()"
   ]
  },
  {
   "cell_type": "markdown",
   "id": "d3f6d21a",
   "metadata": {},
   "source": [
    "### Show all the unique countries\n",
    "\n",
    "#### There are a total of 195 countries for which data is being captured."
   ]
  },
  {
   "cell_type": "code",
   "execution_count": 8,
   "id": "50d428c5",
   "metadata": {
    "scrolled": true
   },
   "outputs": [
    {
     "data": {
      "text/plain": [
       "array(['Afghanistan', 'Albania', 'Algeria', 'American Samoa', 'Andorra',\n",
       "       'Angola', 'Antigua and Barbuda', 'Argentina', 'Armenia',\n",
       "       'Australia', 'Austria', 'Azerbaijan', 'Bahamas', 'Bahrain',\n",
       "       'Bangladesh', 'Barbados', 'Belarus', 'Belgium', 'Belize', 'Benin',\n",
       "       'Bhutan', 'Bolivia (Plurinational State of)',\n",
       "       'Bosnia and Herzegovina', 'Botswana', 'Brazil',\n",
       "       'Brunei Darussalam', 'Bulgaria', 'Burkina Faso', 'Burundi',\n",
       "       'Cabo Verde', 'Cambodia', 'Cameroon', 'Canada',\n",
       "       'Central African Republic', 'Chad', 'Chile', 'China',\n",
       "       'China, Hong Kong Special Administrative Region',\n",
       "       'China, Macao Special Administrative Region', 'Colombia',\n",
       "       'Comoros', 'Congo', 'Costa Rica', \"Côte d'Ivoire\", 'Croatia',\n",
       "       'Cuba', 'Cyprus', 'Czech Republic',\n",
       "       \"Democratic People's Republic of Korea\",\n",
       "       'Democratic Republic of the Congo', 'Denmark', 'Djibouti',\n",
       "       'Dominica', 'Dominican Republic', 'Ecuador', 'Egypt',\n",
       "       'El Salvador', 'Equatorial Guinea', 'Eritrea', 'Estonia',\n",
       "       'Ethiopia', 'Fiji', 'Finland', 'France', 'Gabon', 'Gambia',\n",
       "       'Georgia', 'Germany', 'Ghana', 'Greece', 'Grenada', 'Guatemala',\n",
       "       'Guinea', 'Guinea-Bissau', 'Guyana', 'Haiti', 'Honduras',\n",
       "       'Hungary', 'Iceland', 'India', 'Indonesia',\n",
       "       'Iran (Islamic Republic of)', 'Iraq', 'Ireland', 'Israel', 'Italy',\n",
       "       'Jamaica', 'Japan', 'Jordan', 'Kazakhstan', 'Kenya', 'Kiribati',\n",
       "       'Kuwait', 'Kyrgyzstan', \"Lao People's Democratic Republic\",\n",
       "       'Latvia', 'Lebanon', 'Lesotho', 'Liberia', 'Libya',\n",
       "       'Liechtenstein', 'Lithuania', 'Luxembourg', 'Madagascar', 'Malawi',\n",
       "       'Malaysia', 'Maldives', 'Mali', 'Malta', 'Marshall Islands',\n",
       "       'Mauritania', 'Mauritius', 'Mexico', 'Monaco', 'Mongolia',\n",
       "       'Montenegro', 'Morocco', 'Mozambique', 'Myanmar', 'Namibia',\n",
       "       'Nauru', 'Nepal', 'Netherlands', 'New Caledonia', 'New Zealand',\n",
       "       'Nicaragua', 'Niger', 'Nigeria', 'Norway', 'Oman', 'Pakistan',\n",
       "       'Palau', 'Panama', 'Papua New Guinea', 'Paraguay', 'Peru',\n",
       "       'Philippines', 'Poland', 'Portugal', 'Qatar', 'Republic of Korea',\n",
       "       'Republic of Moldova', 'Romania', 'Russian Federation', 'Rwanda',\n",
       "       'Saint Kitts and Nevis', 'Saint Lucia',\n",
       "       'Saint Vincent and the Grenadines', 'Samoa', 'San Marino',\n",
       "       'Sao Tome and Principe', 'Saudi Arabia', 'Senegal', 'Serbia',\n",
       "       'Seychelles', 'Sierra Leone', 'Singapore', 'Slovakia', 'Slovenia',\n",
       "       'Somalia', 'South Africa', 'Spain', 'Sri Lanka',\n",
       "       'State of Palestine', 'Sudan', 'Suriname', 'Swaziland', 'Sweden',\n",
       "       'Switzerland', 'Syrian Arab Republic', 'Tajikistan', 'Thailand',\n",
       "       'The former Yugoslav Republic of Macedonia', 'Togo', 'Tonga',\n",
       "       'Trinidad and Tobago', 'Tunisia', 'Turkey', 'Turkmenistan',\n",
       "       'Tuvalu', 'Uganda', 'Ukraine', 'United Arab Emirates',\n",
       "       'United Kingdom of Great Britain and Northern Ireland',\n",
       "       'United Republic of Tanzania', 'United States of America',\n",
       "       'Uruguay', 'Uzbekistan', 'Vanuatu',\n",
       "       'Venezuela (Bolivarian Republic of)', 'Viet Nam', 'Western Sahara',\n",
       "       'Yemen', 'Zambia', 'Zimbabwe'], dtype=object)"
      ]
     },
     "execution_count": 8,
     "metadata": {},
     "output_type": "execute_result"
    }
   ],
   "source": [
    "cad.Country.unique()"
   ]
  },
  {
   "cell_type": "code",
   "execution_count": 9,
   "id": "44466ecc",
   "metadata": {},
   "outputs": [
    {
     "data": {
      "text/plain": [
       "195"
      ]
     },
     "execution_count": 9,
     "metadata": {},
     "output_type": "execute_result"
    }
   ],
   "source": [
    "cad.Country.nunique()"
   ]
  },
  {
   "cell_type": "markdown",
   "id": "ebd98903",
   "metadata": {},
   "source": [
    "### Let us convert rows to index for better visualization"
   ]
  },
  {
   "cell_type": "code",
   "execution_count": 10,
   "id": "6d62e7d5",
   "metadata": {},
   "outputs": [],
   "source": [
    "cad.set_index('Country',inplace=True)"
   ]
  },
  {
   "cell_type": "markdown",
   "id": "e19a06c4",
   "metadata": {},
   "source": [
    "### Let us start Analysis and data visualization now"
   ]
  },
  {
   "cell_type": "markdown",
   "id": "97fa7f49",
   "metadata": {},
   "source": [
    "#### 1)Display the data for only Oceania  continent"
   ]
  },
  {
   "cell_type": "code",
   "execution_count": 11,
   "id": "a5ddd962",
   "metadata": {},
   "outputs": [
    {
     "data": {
      "text/html": [
       "<div>\n",
       "<style scoped>\n",
       "    .dataframe tbody tr th:only-of-type {\n",
       "        vertical-align: middle;\n",
       "    }\n",
       "\n",
       "    .dataframe tbody tr th {\n",
       "        vertical-align: top;\n",
       "    }\n",
       "\n",
       "    .dataframe thead th {\n",
       "        text-align: right;\n",
       "    }\n",
       "</style>\n",
       "<table border=\"1\" class=\"dataframe\">\n",
       "  <thead>\n",
       "    <tr style=\"text-align: right;\">\n",
       "      <th></th>\n",
       "      <th>Continent</th>\n",
       "      <th>Region</th>\n",
       "      <th>DevName</th>\n",
       "      <th>2000</th>\n",
       "      <th>2001</th>\n",
       "      <th>2002</th>\n",
       "      <th>2003</th>\n",
       "      <th>2004</th>\n",
       "      <th>2005</th>\n",
       "      <th>2006</th>\n",
       "      <th>2007</th>\n",
       "      <th>2008</th>\n",
       "      <th>2009</th>\n",
       "      <th>2010</th>\n",
       "      <th>2011</th>\n",
       "      <th>2012</th>\n",
       "      <th>2013</th>\n",
       "      <th>Total</th>\n",
       "    </tr>\n",
       "    <tr>\n",
       "      <th>Country</th>\n",
       "      <th></th>\n",
       "      <th></th>\n",
       "      <th></th>\n",
       "      <th></th>\n",
       "      <th></th>\n",
       "      <th></th>\n",
       "      <th></th>\n",
       "      <th></th>\n",
       "      <th></th>\n",
       "      <th></th>\n",
       "      <th></th>\n",
       "      <th></th>\n",
       "      <th></th>\n",
       "      <th></th>\n",
       "      <th></th>\n",
       "      <th></th>\n",
       "      <th></th>\n",
       "      <th></th>\n",
       "    </tr>\n",
       "  </thead>\n",
       "  <tbody>\n",
       "    <tr>\n",
       "      <th>American Samoa</th>\n",
       "      <td>Oceania</td>\n",
       "      <td>Polynesia</td>\n",
       "      <td>Developing regions</td>\n",
       "      <td>0</td>\n",
       "      <td>0</td>\n",
       "      <td>0</td>\n",
       "      <td>0</td>\n",
       "      <td>0</td>\n",
       "      <td>0</td>\n",
       "      <td>1</td>\n",
       "      <td>0</td>\n",
       "      <td>0</td>\n",
       "      <td>0</td>\n",
       "      <td>0</td>\n",
       "      <td>0</td>\n",
       "      <td>0</td>\n",
       "      <td>0</td>\n",
       "      <td>1</td>\n",
       "    </tr>\n",
       "    <tr>\n",
       "      <th>Australia</th>\n",
       "      <td>Oceania</td>\n",
       "      <td>Australia and New Zealand</td>\n",
       "      <td>Developed regions</td>\n",
       "      <td>599</td>\n",
       "      <td>799</td>\n",
       "      <td>747</td>\n",
       "      <td>876</td>\n",
       "      <td>930</td>\n",
       "      <td>909</td>\n",
       "      <td>875</td>\n",
       "      <td>1033</td>\n",
       "      <td>1018</td>\n",
       "      <td>1018</td>\n",
       "      <td>933</td>\n",
       "      <td>851</td>\n",
       "      <td>982</td>\n",
       "      <td>1121</td>\n",
       "      <td>12691</td>\n",
       "    </tr>\n",
       "    <tr>\n",
       "      <th>Fiji</th>\n",
       "      <td>Oceania</td>\n",
       "      <td>Melanesia</td>\n",
       "      <td>Developing regions</td>\n",
       "      <td>458</td>\n",
       "      <td>643</td>\n",
       "      <td>611</td>\n",
       "      <td>561</td>\n",
       "      <td>495</td>\n",
       "      <td>298</td>\n",
       "      <td>277</td>\n",
       "      <td>304</td>\n",
       "      <td>321</td>\n",
       "      <td>311</td>\n",
       "      <td>398</td>\n",
       "      <td>316</td>\n",
       "      <td>270</td>\n",
       "      <td>228</td>\n",
       "      <td>5491</td>\n",
       "    </tr>\n",
       "    <tr>\n",
       "      <th>Kiribati</th>\n",
       "      <td>Oceania</td>\n",
       "      <td>Micronesia</td>\n",
       "      <td>Developing regions</td>\n",
       "      <td>1</td>\n",
       "      <td>1</td>\n",
       "      <td>0</td>\n",
       "      <td>0</td>\n",
       "      <td>0</td>\n",
       "      <td>1</td>\n",
       "      <td>0</td>\n",
       "      <td>0</td>\n",
       "      <td>1</td>\n",
       "      <td>1</td>\n",
       "      <td>0</td>\n",
       "      <td>0</td>\n",
       "      <td>2</td>\n",
       "      <td>0</td>\n",
       "      <td>7</td>\n",
       "    </tr>\n",
       "    <tr>\n",
       "      <th>Marshall Islands</th>\n",
       "      <td>Oceania</td>\n",
       "      <td>Micronesia</td>\n",
       "      <td>Developing regions</td>\n",
       "      <td>0</td>\n",
       "      <td>0</td>\n",
       "      <td>0</td>\n",
       "      <td>0</td>\n",
       "      <td>0</td>\n",
       "      <td>0</td>\n",
       "      <td>0</td>\n",
       "      <td>2</td>\n",
       "      <td>0</td>\n",
       "      <td>0</td>\n",
       "      <td>0</td>\n",
       "      <td>0</td>\n",
       "      <td>0</td>\n",
       "      <td>0</td>\n",
       "      <td>2</td>\n",
       "    </tr>\n",
       "    <tr>\n",
       "      <th>Nauru</th>\n",
       "      <td>Oceania</td>\n",
       "      <td>Micronesia</td>\n",
       "      <td>Developing regions</td>\n",
       "      <td>1</td>\n",
       "      <td>3</td>\n",
       "      <td>2</td>\n",
       "      <td>4</td>\n",
       "      <td>1</td>\n",
       "      <td>1</td>\n",
       "      <td>1</td>\n",
       "      <td>0</td>\n",
       "      <td>0</td>\n",
       "      <td>1</td>\n",
       "      <td>0</td>\n",
       "      <td>0</td>\n",
       "      <td>0</td>\n",
       "      <td>1</td>\n",
       "      <td>15</td>\n",
       "    </tr>\n",
       "    <tr>\n",
       "      <th>New Caledonia</th>\n",
       "      <td>Oceania</td>\n",
       "      <td>Melanesia</td>\n",
       "      <td>Developing regions</td>\n",
       "      <td>0</td>\n",
       "      <td>1</td>\n",
       "      <td>0</td>\n",
       "      <td>1</td>\n",
       "      <td>0</td>\n",
       "      <td>0</td>\n",
       "      <td>0</td>\n",
       "      <td>0</td>\n",
       "      <td>1</td>\n",
       "      <td>0</td>\n",
       "      <td>0</td>\n",
       "      <td>0</td>\n",
       "      <td>0</td>\n",
       "      <td>2</td>\n",
       "      <td>5</td>\n",
       "    </tr>\n",
       "    <tr>\n",
       "      <th>New Zealand</th>\n",
       "      <td>Oceania</td>\n",
       "      <td>Australia and New Zealand</td>\n",
       "      <td>Developed regions</td>\n",
       "      <td>212</td>\n",
       "      <td>360</td>\n",
       "      <td>321</td>\n",
       "      <td>345</td>\n",
       "      <td>350</td>\n",
       "      <td>370</td>\n",
       "      <td>318</td>\n",
       "      <td>350</td>\n",
       "      <td>480</td>\n",
       "      <td>520</td>\n",
       "      <td>490</td>\n",
       "      <td>375</td>\n",
       "      <td>417</td>\n",
       "      <td>415</td>\n",
       "      <td>5323</td>\n",
       "    </tr>\n",
       "    <tr>\n",
       "      <th>Palau</th>\n",
       "      <td>Oceania</td>\n",
       "      <td>Micronesia</td>\n",
       "      <td>Developing regions</td>\n",
       "      <td>0</td>\n",
       "      <td>0</td>\n",
       "      <td>0</td>\n",
       "      <td>0</td>\n",
       "      <td>0</td>\n",
       "      <td>0</td>\n",
       "      <td>0</td>\n",
       "      <td>1</td>\n",
       "      <td>0</td>\n",
       "      <td>0</td>\n",
       "      <td>0</td>\n",
       "      <td>0</td>\n",
       "      <td>0</td>\n",
       "      <td>0</td>\n",
       "      <td>1</td>\n",
       "    </tr>\n",
       "    <tr>\n",
       "      <th>Papua New Guinea</th>\n",
       "      <td>Oceania</td>\n",
       "      <td>Melanesia</td>\n",
       "      <td>Developing regions</td>\n",
       "      <td>4</td>\n",
       "      <td>2</td>\n",
       "      <td>0</td>\n",
       "      <td>4</td>\n",
       "      <td>1</td>\n",
       "      <td>1</td>\n",
       "      <td>0</td>\n",
       "      <td>0</td>\n",
       "      <td>9</td>\n",
       "      <td>1</td>\n",
       "      <td>3</td>\n",
       "      <td>0</td>\n",
       "      <td>3</td>\n",
       "      <td>3</td>\n",
       "      <td>31</td>\n",
       "    </tr>\n",
       "    <tr>\n",
       "      <th>Samoa</th>\n",
       "      <td>Oceania</td>\n",
       "      <td>Polynesia</td>\n",
       "      <td>Developing regions</td>\n",
       "      <td>1</td>\n",
       "      <td>2</td>\n",
       "      <td>2</td>\n",
       "      <td>3</td>\n",
       "      <td>3</td>\n",
       "      <td>2</td>\n",
       "      <td>0</td>\n",
       "      <td>1</td>\n",
       "      <td>4</td>\n",
       "      <td>2</td>\n",
       "      <td>5</td>\n",
       "      <td>3</td>\n",
       "      <td>2</td>\n",
       "      <td>0</td>\n",
       "      <td>30</td>\n",
       "    </tr>\n",
       "    <tr>\n",
       "      <th>Tonga</th>\n",
       "      <td>Oceania</td>\n",
       "      <td>Polynesia</td>\n",
       "      <td>Developing regions</td>\n",
       "      <td>0</td>\n",
       "      <td>6</td>\n",
       "      <td>2</td>\n",
       "      <td>5</td>\n",
       "      <td>5</td>\n",
       "      <td>2</td>\n",
       "      <td>0</td>\n",
       "      <td>1</td>\n",
       "      <td>0</td>\n",
       "      <td>5</td>\n",
       "      <td>5</td>\n",
       "      <td>2</td>\n",
       "      <td>3</td>\n",
       "      <td>5</td>\n",
       "      <td>41</td>\n",
       "    </tr>\n",
       "    <tr>\n",
       "      <th>Tuvalu</th>\n",
       "      <td>Oceania</td>\n",
       "      <td>Polynesia</td>\n",
       "      <td>Developing regions</td>\n",
       "      <td>0</td>\n",
       "      <td>0</td>\n",
       "      <td>0</td>\n",
       "      <td>0</td>\n",
       "      <td>2</td>\n",
       "      <td>0</td>\n",
       "      <td>0</td>\n",
       "      <td>1</td>\n",
       "      <td>0</td>\n",
       "      <td>0</td>\n",
       "      <td>0</td>\n",
       "      <td>1</td>\n",
       "      <td>0</td>\n",
       "      <td>0</td>\n",
       "      <td>4</td>\n",
       "    </tr>\n",
       "    <tr>\n",
       "      <th>Vanuatu</th>\n",
       "      <td>Oceania</td>\n",
       "      <td>Melanesia</td>\n",
       "      <td>Developing regions</td>\n",
       "      <td>0</td>\n",
       "      <td>1</td>\n",
       "      <td>0</td>\n",
       "      <td>1</td>\n",
       "      <td>1</td>\n",
       "      <td>1</td>\n",
       "      <td>1</td>\n",
       "      <td>0</td>\n",
       "      <td>0</td>\n",
       "      <td>1</td>\n",
       "      <td>0</td>\n",
       "      <td>0</td>\n",
       "      <td>0</td>\n",
       "      <td>0</td>\n",
       "      <td>6</td>\n",
       "    </tr>\n",
       "  </tbody>\n",
       "</table>\n",
       "</div>"
      ],
      "text/plain": [
       "                 Continent                     Region             DevName  \\\n",
       "Country                                                                     \n",
       "American Samoa     Oceania                  Polynesia  Developing regions   \n",
       "Australia          Oceania  Australia and New Zealand   Developed regions   \n",
       "Fiji               Oceania                  Melanesia  Developing regions   \n",
       "Kiribati           Oceania                 Micronesia  Developing regions   \n",
       "Marshall Islands   Oceania                 Micronesia  Developing regions   \n",
       "Nauru              Oceania                 Micronesia  Developing regions   \n",
       "New Caledonia      Oceania                  Melanesia  Developing regions   \n",
       "New Zealand        Oceania  Australia and New Zealand   Developed regions   \n",
       "Palau              Oceania                 Micronesia  Developing regions   \n",
       "Papua New Guinea   Oceania                  Melanesia  Developing regions   \n",
       "Samoa              Oceania                  Polynesia  Developing regions   \n",
       "Tonga              Oceania                  Polynesia  Developing regions   \n",
       "Tuvalu             Oceania                  Polynesia  Developing regions   \n",
       "Vanuatu            Oceania                  Melanesia  Developing regions   \n",
       "\n",
       "                  2000  2001  2002  2003  2004  2005  2006  2007  2008  2009  \\\n",
       "Country                                                                        \n",
       "American Samoa       0     0     0     0     0     0     1     0     0     0   \n",
       "Australia          599   799   747   876   930   909   875  1033  1018  1018   \n",
       "Fiji               458   643   611   561   495   298   277   304   321   311   \n",
       "Kiribati             1     1     0     0     0     1     0     0     1     1   \n",
       "Marshall Islands     0     0     0     0     0     0     0     2     0     0   \n",
       "Nauru                1     3     2     4     1     1     1     0     0     1   \n",
       "New Caledonia        0     1     0     1     0     0     0     0     1     0   \n",
       "New Zealand        212   360   321   345   350   370   318   350   480   520   \n",
       "Palau                0     0     0     0     0     0     0     1     0     0   \n",
       "Papua New Guinea     4     2     0     4     1     1     0     0     9     1   \n",
       "Samoa                1     2     2     3     3     2     0     1     4     2   \n",
       "Tonga                0     6     2     5     5     2     0     1     0     5   \n",
       "Tuvalu               0     0     0     0     2     0     0     1     0     0   \n",
       "Vanuatu              0     1     0     1     1     1     1     0     0     1   \n",
       "\n",
       "                  2010  2011  2012  2013  Total  \n",
       "Country                                          \n",
       "American Samoa       0     0     0     0      1  \n",
       "Australia          933   851   982  1121  12691  \n",
       "Fiji               398   316   270   228   5491  \n",
       "Kiribati             0     0     2     0      7  \n",
       "Marshall Islands     0     0     0     0      2  \n",
       "Nauru                0     0     0     1     15  \n",
       "New Caledonia        0     0     0     2      5  \n",
       "New Zealand        490   375   417   415   5323  \n",
       "Palau                0     0     0     0      1  \n",
       "Papua New Guinea     3     0     3     3     31  \n",
       "Samoa                5     3     2     0     30  \n",
       "Tonga                5     2     3     5     41  \n",
       "Tuvalu               0     1     0     0      4  \n",
       "Vanuatu              0     0     0     0      6  "
      ]
     },
     "execution_count": 11,
     "metadata": {},
     "output_type": "execute_result"
    }
   ],
   "source": [
    "cad.loc[cad['Continent']=='Oceania']"
   ]
  },
  {
   "cell_type": "markdown",
   "id": "99ef3e4b",
   "metadata": {},
   "source": [
    "#### 2)What is the number of countries from where people immigrated to Canada in the year 2000 for specific Continent and Region"
   ]
  },
  {
   "cell_type": "code",
   "execution_count": 12,
   "id": "514d36cb",
   "metadata": {},
   "outputs": [
    {
     "data": {
      "text/plain": [
       "Continent                        Region                   \n",
       "Africa                           Eastern Africa               17\n",
       "                                 Middle Africa                 9\n",
       "                                 Northern Africa               7\n",
       "                                 Southern Africa               5\n",
       "                                 Western Africa               16\n",
       "Asia                             Central Asia                  5\n",
       "                                 Eastern Asia                  7\n",
       "                                 South-Eastern Asia           10\n",
       "                                 Southern Asia                 9\n",
       "                                 Western Asia                 18\n",
       "Europe                           Eastern Europe               10\n",
       "                                 Northern Europe              10\n",
       "                                 Southern Europe              14\n",
       "                                 Western Europe                9\n",
       "Latin America and the Caribbean  Caribbean                    13\n",
       "                                 Central America               8\n",
       "                                 South America                12\n",
       "Northern America                 Northern America              2\n",
       "Oceania                          Australia and New Zealand     2\n",
       "                                 Melanesia                     4\n",
       "                                 Micronesia                    4\n",
       "                                 Polynesia                     4\n",
       "Name: 2000, dtype: int64"
      ]
     },
     "execution_count": 12,
     "metadata": {},
     "output_type": "execute_result"
    }
   ],
   "source": [
    "cad.groupby(['Continent','Region'])['2000'].count()"
   ]
  },
  {
   "cell_type": "markdown",
   "id": "f0db5057",
   "metadata": {},
   "source": [
    "\n",
    "#### 3)Draw line graph for number of immigrants from India "
   ]
  },
  {
   "cell_type": "code",
   "execution_count": 24,
   "id": "d1361110",
   "metadata": {},
   "outputs": [
    {
     "data": {
      "text/plain": [
       "Text(0, 0.5, 'Number of Immigrants')"
      ]
     },
     "execution_count": 24,
     "metadata": {},
     "output_type": "execute_result"
    },
    {
     "data": {
      "image/png": "[encoded data removed]",
      "text/plain": [
       "<Figure size 720x360 with 1 Axes>"
      ]
     },
     "metadata": {
      "needs_background": "light"
     },
     "output_type": "display_data"
    }
   ],
   "source": [
    "years=list(map(str,range(2000,2014)))\n",
    "df_india=cad.loc['India',years]\n",
    "df_india.plot(kind='line', figsize=(10, 5))\n",
    "plt.title('Number of Immigrants from India')\n",
    "plt.xlabel('Years')\n",
    "plt.ylabel('Number of Immigrants')"
   ]
  },
  {
   "cell_type": "markdown",
   "id": "c3a79dfd",
   "metadata": {},
   "source": [
    "#### 4) Draw bar graph for Immigration from Germany"
   ]
  },
  {
   "cell_type": "code",
   "execution_count": 14,
   "id": "946ac056",
   "metadata": {},
   "outputs": [
    {
     "data": {
      "text/plain": [
       "Text(0.5, 0, 'Number of Immigrants')"
      ]
     },
     "execution_count": 14,
     "metadata": {},
     "output_type": "execute_result"
    },
    {
     "data": {
      "image/png": "[encoded data removed]",
      "text/plain": [
       "<Figure size 720x360 with 1 Axes>"
      ]
     },
     "metadata": {
      "needs_background": "light"
     },
     "output_type": "display_data"
    }
   ],
   "source": [
    "cad.loc['Germany',years].plot(kind='barh',figsize=(10, 5))\n",
    "plt.title('Number of Immigrants from Germany from 2000-2013')\n",
    "plt.ylabel('Years')\n",
    "plt.xlabel('Number of Immigrants')"
   ]
  },
  {
   "cell_type": "markdown",
   "id": "514f8cce",
   "metadata": {},
   "source": [
    "#### 5) Display the country with highest number of immigrants\n",
    "\n",
    "#### As we can see, highest(466431) number of immigrants to Canada are from 'China' between year 2000 and 2013"
   ]
  },
  {
   "cell_type": "code",
   "execution_count": 15,
   "id": "475637b9",
   "metadata": {},
   "outputs": [
    {
     "data": {
      "text/plain": [
       "Continent                  Asia\n",
       "Region             Eastern Asia\n",
       "DevName      Developing regions\n",
       "2000                      35529\n",
       "2001                      36434\n",
       "2002                      31961\n",
       "2003                      36439\n",
       "2004                      36619\n",
       "2005                      42584\n",
       "2006                      33518\n",
       "2007                      27642\n",
       "2008                      30037\n",
       "2009                      29622\n",
       "2010                      30391\n",
       "2011                      28502\n",
       "2012                      33024\n",
       "2013                      34129\n",
       "Total                    466431\n",
       "Name: China, dtype: object"
      ]
     },
     "execution_count": 15,
     "metadata": {},
     "output_type": "execute_result"
    }
   ],
   "source": [
    "cad.loc[cad['Total'].idxmax()]"
   ]
  },
  {
   "cell_type": "markdown",
   "id": "b584b7b6",
   "metadata": {},
   "source": [
    "#### 6) Display the country with lowest number of immigrants\n",
    "#### As we can see, lowest number of immigrants to Canada are from 'American Samoa' between year 2000 and 2013 which is just 1."
   ]
  },
  {
   "cell_type": "code",
   "execution_count": 16,
   "id": "392536b9",
   "metadata": {},
   "outputs": [
    {
     "data": {
      "text/plain": [
       "Continent               Oceania\n",
       "Region                Polynesia\n",
       "DevName      Developing regions\n",
       "2000                          0\n",
       "2001                          0\n",
       "2002                          0\n",
       "2003                          0\n",
       "2004                          0\n",
       "2005                          0\n",
       "2006                          1\n",
       "2007                          0\n",
       "2008                          0\n",
       "2009                          0\n",
       "2010                          0\n",
       "2011                          0\n",
       "2012                          0\n",
       "2013                          0\n",
       "Total                         1\n",
       "Name: American Samoa, dtype: object"
      ]
     },
     "execution_count": 16,
     "metadata": {},
     "output_type": "execute_result"
    }
   ],
   "source": [
    "cad.loc[cad['Total'].idxmin()]"
   ]
  },
  {
   "cell_type": "markdown",
   "id": "f3a8bfbf",
   "metadata": {},
   "source": [
    "#### 7) Compare with Immigrants from Top 3 countries i.e. China, India and Philippines"
   ]
  },
  {
   "cell_type": "code",
   "execution_count": 20,
   "id": "9cd3bb1f",
   "metadata": {},
   "outputs": [
    {
     "data": {
      "text/plain": [
       "Text(0.5, 0, 'Years')"
      ]
     },
     "execution_count": 20,
     "metadata": {},
     "output_type": "execute_result"
    },
    {
     "data": {
      "image/png": "[encoded data removed]",
      "text/plain": [
       "<Figure size 720x360 with 1 Axes>"
      ]
     },
     "metadata": {
      "needs_background": "light"
     },
     "output_type": "display_data"
    }
   ],
   "source": [
    "cad.loc[['China','India','Philippines'],years].transpose().plot(kind='line',figsize=(10,5))\n",
    "plt.title('Immigrants from China India, Philippines to Canada')\n",
    "plt.ylabel('Number of Immigrants')\n",
    "plt.xlabel('Years')"
   ]
  },
  {
   "cell_type": "markdown",
   "id": "8277e168",
   "metadata": {},
   "source": [
    "#### 8) Plot Area graph for top 5 countries"
   ]
  },
  {
   "cell_type": "code",
   "execution_count": 40,
   "id": "c3729c4f",
   "metadata": {},
   "outputs": [
    {
     "data": {
      "text/plain": [
       "Text(0.5, 0, 'Year')"
      ]
     },
     "execution_count": 40,
     "metadata": {},
     "output_type": "execute_result"
    },
    {
     "data": {
      "image/png": "[encoded data removed]",
      "text/plain": [
       "<Figure size 720x360 with 1 Axes>"
      ]
     },
     "metadata": {
      "needs_background": "light"
     },
     "output_type": "display_data"
    }
   ],
   "source": [
    "cad.sort_values(['Total'], ascending=False, axis=0, inplace=True)\n",
    "df=cad.head(5)\n",
    "df[years].transpose().plot(kind='area',stacked=True,figsize=(10,5))\n",
    "plt.title('Top 5 immigration countries to Canada')\n",
    "plt.ylabel('Number of immigrants')\n",
    "plt.xlabel('Year')"
   ]
  },
  {
   "cell_type": "markdown",
   "id": "77865203",
   "metadata": {},
   "source": [
    "#### 9) Pie chart for developing countries vs developed countries\n",
    "#### As we can see 18.3% countries belong to developed region in pie chart while rest 81.7% countries belong to developing region."
   ]
  },
  {
   "cell_type": "code",
   "execution_count": 32,
   "id": "c20956db",
   "metadata": {},
   "outputs": [
    {
     "data": {
      "text/plain": [
       "(-1.1051799354948157,\n",
       " 1.1002466846210694,\n",
       " -1.103466741680748,\n",
       " 1.1061450238382502)"
      ]
     },
     "execution_count": 32,
     "metadata": {},
     "output_type": "execute_result"
    },
    {
     "data": {
      "image/png": "[encoded data removed]",
      "text/plain": [
       "<Figure size 720x360 with 1 Axes>"
      ]
     },
     "metadata": {},
     "output_type": "display_data"
    }
   ],
   "source": [
    "cad.groupby('DevName')['Total'].sum().plot(kind='pie', figsize=(10,5),shadow=True,autopct='%1.1f%%') \n",
    "plt.title('Developing countries and Developed countries immigrated to Canada') \n",
    "plt.axis('equal')"
   ]
  },
  {
   "cell_type": "markdown",
   "id": "b7179691",
   "metadata": {},
   "source": [
    "#### 10) Create a Pie chart for different continents\n",
    "\n",
    "#### As displayed there are total 6 continents and the highest percentage of immigrants are from Asia and lowest from Ocenia."
   ]
  },
  {
   "cell_type": "code",
   "execution_count": 34,
   "id": "c26742ec",
   "metadata": {},
   "outputs": [
    {
     "data": {
      "text/plain": [
       "(-1.102853841128872,\n",
       " 1.1001358971966129,\n",
       " -1.1115188845740884,\n",
       " 1.1133282922268992)"
      ]
     },
     "execution_count": 34,
     "metadata": {},
     "output_type": "execute_result"
    },
    {
     "data": {
      "image/png": "[encoded data removed]",
      "text/plain": [
       "<Figure size 720x360 with 1 Axes>"
      ]
     },
     "metadata": {},
     "output_type": "display_data"
    }
   ],
   "source": [
    "cad.groupby('Continent')['Total'].sum().plot(kind='pie', figsize=(10,5),shadow=True, autopct='%1.1f%%') \n",
    "plt.title('Pie chart for continents immigrated to Canada') \n",
    "plt.axis('equal')"
   ]
  },
  {
   "cell_type": "code",
   "execution_count": null,
   "id": "bb8da6ed",
   "metadata": {},
   "outputs": [],
   "source": []
  }
 ],
 "metadata": {
  "kernelspec": {
   "display_name": "Python 3.9.7 ('base')",
   "language": "python",
   "name": "python3"
  },
  "language_info": {
   "codemirror_mode": {
    "name": "ipython",
    "version": 3
   },
   "file_extension": ".py",
   "mimetype": "text/x-python",
   "name": "python",
   "nbconvert_exporter": "python",
   "pygments_lexer": "ipython3",
   "version": "3.9.7"
  },
  "vscode": {
   "interpreter": {
    "hash": "daba84b9011790cc9eaf4cc21f3efb4c679e43558c1b80abd9638a9f3765cdfc"
   }
  }
 },
 "nbformat": 4,
 "nbformat_minor": 5
}
